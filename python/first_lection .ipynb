{
 "cells": [
  {
   "cell_type": "markdown",
   "id": "e101a1e1-ca26-4385-bcd8-b233897533e0",
   "metadata": {},
   "source": [
    "### Переменные"
   ]
  },
  {
   "cell_type": "code",
   "execution_count": 2,
   "id": "d49d1e86-c739-4789-94b7-555a614fbff4",
   "metadata": {},
   "outputs": [],
   "source": [
    "a = 5"
   ]
  },
  {
   "cell_type": "code",
   "execution_count": 3,
   "id": "62b9ca7e-576a-4cca-bdde-a8caac2e46db",
   "metadata": {},
   "outputs": [
    {
     "data": {
      "text/plain": [
       "5"
      ]
     },
     "execution_count": 3,
     "metadata": {},
     "output_type": "execute_result"
    }
   ],
   "source": [
    "a"
   ]
  },
  {
   "cell_type": "code",
   "execution_count": 4,
   "id": "afaf1209-9db8-4b40-a3b3-f58c1b76b09a",
   "metadata": {},
   "outputs": [],
   "source": [
    "b = a"
   ]
  },
  {
   "cell_type": "code",
   "execution_count": 5,
   "id": "016e35f3-6921-4c0a-8232-927142f27ffd",
   "metadata": {},
   "outputs": [
    {
     "data": {
      "text/plain": [
       "5"
      ]
     },
     "execution_count": 5,
     "metadata": {},
     "output_type": "execute_result"
    }
   ],
   "source": [
    "b"
   ]
  },
  {
   "cell_type": "code",
   "execution_count": 6,
   "id": "be99bada-c1be-4046-8abd-1a01897a9f99",
   "metadata": {},
   "outputs": [
    {
     "data": {
      "text/plain": [
       "5"
      ]
     },
     "execution_count": 6,
     "metadata": {},
     "output_type": "execute_result"
    }
   ],
   "source": [
    "a"
   ]
  },
  {
   "cell_type": "code",
   "execution_count": 8,
   "id": "cf1b462e-f6b2-4918-a519-396ca2c7dfa7",
   "metadata": {},
   "outputs": [
    {
     "data": {
      "text/plain": [
       "True"
      ]
     },
     "execution_count": 8,
     "metadata": {},
     "output_type": "execute_result"
    }
   ],
   "source": [
    "a is b # Проверка тождества объекта"
   ]
  },
  {
   "cell_type": "code",
   "execution_count": 12,
   "id": "6dd65417-e54d-4f3e-8672-ddfce6eaa07c",
   "metadata": {},
   "outputs": [
    {
     "data": {
      "text/plain": [
       "6"
      ]
     },
     "execution_count": 12,
     "metadata": {},
     "output_type": "execute_result"
    }
   ],
   "source": [
    "1 + a"
   ]
  },
  {
   "cell_type": "markdown",
   "id": "4ab87ee8-798f-41c9-91a0-d2e0b873232e",
   "metadata": {},
   "source": [
    "#### Строки (string)"
   ]
  },
  {
   "cell_type": "code",
   "execution_count": 15,
   "id": "d6228cfc-3ac2-4183-aad9-841c66d00a90",
   "metadata": {},
   "outputs": [],
   "source": [
    "my_str = \"This is a string\""
   ]
  },
  {
   "cell_type": "code",
   "execution_count": 16,
   "id": "33193c5f-0eed-47d7-a03a-c3f89963c690",
   "metadata": {},
   "outputs": [
    {
     "data": {
      "text/plain": [
       "'This is a string'"
      ]
     },
     "execution_count": 16,
     "metadata": {},
     "output_type": "execute_result"
    }
   ],
   "source": [
    "my_str"
   ]
  },
  {
   "cell_type": "code",
   "execution_count": 17,
   "id": "5a58b907-346e-4e3a-baa4-3a21bed3cd5c",
   "metadata": {},
   "outputs": [],
   "source": [
    "my_str_2 = 'This is a string too'"
   ]
  },
  {
   "cell_type": "code",
   "execution_count": 18,
   "id": "ce884527-6124-4d6d-924e-364178f96066",
   "metadata": {},
   "outputs": [],
   "source": [
    "my_var = \"He say: 'Python is cool!'\""
   ]
  },
  {
   "cell_type": "code",
   "execution_count": 19,
   "id": "3abaa53e-999c-42cd-8be1-8ef294d437a5",
   "metadata": {},
   "outputs": [
    {
     "data": {
      "text/plain": [
       "\"He say: 'Python is cool!'\""
      ]
     },
     "execution_count": 19,
     "metadata": {},
     "output_type": "execute_result"
    }
   ],
   "source": [
    "my_var"
   ]
  },
  {
   "cell_type": "code",
   "execution_count": 23,
   "id": "f459902b-7f90-4c20-9442-a34ad5d56d50",
   "metadata": {},
   "outputs": [],
   "source": [
    "convert_to_str = str(a)"
   ]
  },
  {
   "cell_type": "code",
   "execution_count": 26,
   "id": "f8ed3ce6-af62-4e6f-81ab-f7f4a636d5dc",
   "metadata": {},
   "outputs": [
    {
     "data": {
      "text/plain": [
       "'5'"
      ]
     },
     "execution_count": 26,
     "metadata": {},
     "output_type": "execute_result"
    }
   ],
   "source": [
    "convert_to_str"
   ]
  },
  {
   "cell_type": "code",
   "execution_count": 25,
   "id": "49fb5299-6d91-4c38-995c-948432ba33c8",
   "metadata": {},
   "outputs": [
    {
     "data": {
      "text/plain": [
       "str"
      ]
     },
     "execution_count": 25,
     "metadata": {},
     "output_type": "execute_result"
    }
   ],
   "source": [
    "type(convert_to_str)"
   ]
  },
  {
   "cell_type": "code",
   "execution_count": 27,
   "id": "62499a33-2ef4-43cc-a9a9-4caf633d28e8",
   "metadata": {},
   "outputs": [
    {
     "name": "stdout",
     "output_type": "stream",
     "text": [
      "5\n"
     ]
    }
   ],
   "source": [
    "print(convert_to_str)"
   ]
  },
  {
   "cell_type": "code",
   "execution_count": 31,
   "id": "6f00414b-fd4c-4807-83af-fad3c09e820d",
   "metadata": {},
   "outputs": [
    {
     "data": {
      "text/plain": [
       "'python'"
      ]
     },
     "execution_count": 31,
     "metadata": {},
     "output_type": "execute_result"
    }
   ],
   "source": [
    "start = \"pyth\"\n",
    "end = \"on\"\n",
    "start = start + end\n",
    "start # Строка - не изменяемый тип данных!"
   ]
  },
  {
   "cell_type": "code",
   "execution_count": 34,
   "id": "cf4bb825-e6f9-42cc-b066-ac10b03fbbe7",
   "metadata": {},
   "outputs": [],
   "source": [
    "docstring_var = \"\"\"\n",
    "This is a large\n",
    "text with tabs\n",
    "bla bla\n",
    "\"\"\""
   ]
  },
  {
   "cell_type": "code",
   "execution_count": 35,
   "id": "0ec4b939-9bea-4cd3-b9ae-a263175c679f",
   "metadata": {},
   "outputs": [
    {
     "data": {
      "text/plain": [
       "'\\nThis is a large\\ntext with tabs\\nbla bla\\n'"
      ]
     },
     "execution_count": 35,
     "metadata": {},
     "output_type": "execute_result"
    }
   ],
   "source": [
    "docstring_var"
   ]
  },
  {
   "cell_type": "code",
   "execution_count": 36,
   "id": "e93a259e-e794-4620-a5b7-41e65d241b32",
   "metadata": {},
   "outputs": [
    {
     "name": "stdout",
     "output_type": "stream",
     "text": [
      "\n",
      "This is a large\n",
      "text with tabs\n",
      "bla bla\n",
      "\n"
     ]
    }
   ],
   "source": [
    "print(docstring_var)"
   ]
  },
  {
   "cell_type": "code",
   "execution_count": 43,
   "id": "f08636b6-a7b0-4232-8691-efdec7a08005",
   "metadata": {},
   "outputs": [
    {
     "data": {
      "text/plain": [
       "['This is a large', 'text with tabs', 'bla bla']"
      ]
     },
     "execution_count": 43,
     "metadata": {},
     "output_type": "execute_result"
    }
   ],
   "source": [
    "my_list = docstring_var.strip().split('\\n')\n",
    "my_list"
   ]
  },
  {
   "cell_type": "code",
   "execution_count": 39,
   "id": "df1f0ee2-04cd-4123-beab-13969e565e4d",
   "metadata": {},
   "outputs": [
    {
     "data": {
      "text/plain": [
       "\"he say: 'python is cool!'\""
      ]
     },
     "execution_count": 39,
     "metadata": {},
     "output_type": "execute_result"
    }
   ],
   "source": [
    "my_var.lower()"
   ]
  },
  {
   "cell_type": "code",
   "execution_count": 41,
   "id": "9cf650dd-f2a7-4a18-8ee0-d79c8ed9f90a",
   "metadata": {},
   "outputs": [
    {
     "data": {
      "text/plain": [
       "False"
      ]
     },
     "execution_count": 41,
     "metadata": {},
     "output_type": "execute_result"
    }
   ],
   "source": [
    "my_var.startswith(\"She\")"
   ]
  },
  {
   "cell_type": "code",
   "execution_count": 46,
   "id": "1cb30777-f908-4de3-a65b-cfc632c308af",
   "metadata": {},
   "outputs": [
    {
     "data": {
      "text/plain": [
       "'This is a large text with tabs bla bla'"
      ]
     },
     "execution_count": 46,
     "metadata": {},
     "output_type": "execute_result"
    }
   ],
   "source": [
    "\" \".join(my_list)"
   ]
  },
  {
   "cell_type": "markdown",
   "id": "bb61b9f5-86a3-4d5f-8b36-1a726de745c7",
   "metadata": {},
   "source": [
    "#### Целые числа (Integer)"
   ]
  },
  {
   "cell_type": "code",
   "execution_count": 3,
   "id": "37e6e5a6-4bdf-4130-9197-383444177731",
   "metadata": {},
   "outputs": [],
   "source": [
    "a = 5"
   ]
  },
  {
   "cell_type": "code",
   "execution_count": 4,
   "id": "1e0a42a5-7b70-4eab-b0a4-c87b97279f1b",
   "metadata": {},
   "outputs": [],
   "source": [
    "b = 9"
   ]
  },
  {
   "cell_type": "code",
   "execution_count": 5,
   "id": "fcefba79-7a9b-40cb-a192-8a68912cf85c",
   "metadata": {},
   "outputs": [
    {
     "data": {
      "text/plain": [
       "14"
      ]
     },
     "execution_count": 5,
     "metadata": {},
     "output_type": "execute_result"
    }
   ],
   "source": [
    "a + b"
   ]
  },
  {
   "cell_type": "code",
   "execution_count": 6,
   "id": "17a887e6-2624-4d6d-b943-b7dc2f66869c",
   "metadata": {},
   "outputs": [],
   "source": [
    "c = -9"
   ]
  },
  {
   "cell_type": "code",
   "execution_count": 7,
   "id": "d76e2854-1792-4989-a0fa-9552111354ad",
   "metadata": {},
   "outputs": [
    {
     "data": {
      "text/plain": [
       "-9"
      ]
     },
     "execution_count": 7,
     "metadata": {},
     "output_type": "execute_result"
    }
   ],
   "source": [
    "c"
   ]
  },
  {
   "cell_type": "code",
   "execution_count": 8,
   "id": "7a238dbf-4c14-4ffa-b0ca-97fc379ff720",
   "metadata": {},
   "outputs": [
    {
     "data": {
      "text/plain": [
       "-4"
      ]
     },
     "execution_count": 8,
     "metadata": {},
     "output_type": "execute_result"
    }
   ],
   "source": [
    "a - b"
   ]
  },
  {
   "cell_type": "code",
   "execution_count": 9,
   "id": "3d23f09d-7d31-48f9-abdd-e7545ea7d621",
   "metadata": {},
   "outputs": [
    {
     "data": {
      "text/plain": [
       "45"
      ]
     },
     "execution_count": 9,
     "metadata": {},
     "output_type": "execute_result"
    }
   ],
   "source": [
    "a * b"
   ]
  },
  {
   "cell_type": "code",
   "execution_count": 10,
   "id": "ec81fdff-12df-4a07-a6fe-7c098a3a20d7",
   "metadata": {},
   "outputs": [
    {
     "data": {
      "text/plain": [
       "1953125"
      ]
     },
     "execution_count": 10,
     "metadata": {},
     "output_type": "execute_result"
    }
   ],
   "source": [
    "a ** b"
   ]
  },
  {
   "cell_type": "code",
   "execution_count": 12,
   "id": "bb77cc36-dc42-4a6d-bb74-fca5e1d20e61",
   "metadata": {},
   "outputs": [
    {
     "data": {
      "text/plain": [
       "1"
      ]
     },
     "execution_count": 12,
     "metadata": {},
     "output_type": "execute_result"
    }
   ],
   "source": [
    "b // a # целочисленное"
   ]
  },
  {
   "cell_type": "code",
   "execution_count": 13,
   "id": "ed817ee0-a197-4aa2-815d-999e5a53eee3",
   "metadata": {},
   "outputs": [
    {
     "data": {
      "text/plain": [
       "1.8"
      ]
     },
     "execution_count": 13,
     "metadata": {},
     "output_type": "execute_result"
    }
   ],
   "source": [
    "b / a"
   ]
  },
  {
   "cell_type": "code",
   "execution_count": 15,
   "id": "e98f71d3-70b2-463f-8471-d43dd8bf6dd0",
   "metadata": {},
   "outputs": [
    {
     "data": {
      "text/plain": [
       "4"
      ]
     },
     "execution_count": 15,
     "metadata": {},
     "output_type": "execute_result"
    }
   ],
   "source": [
    "b % a"
   ]
  },
  {
   "cell_type": "code",
   "execution_count": 16,
   "id": "1391748e-2a24-45c3-a16e-7d1b300040d2",
   "metadata": {},
   "outputs": [],
   "source": [
    "convert_to_int = int(\"13\")"
   ]
  },
  {
   "cell_type": "code",
   "execution_count": 17,
   "id": "e946eea6-aac3-4340-b8b7-11d328417e59",
   "metadata": {},
   "outputs": [
    {
     "data": {
      "text/plain": [
       "13"
      ]
     },
     "execution_count": 17,
     "metadata": {},
     "output_type": "execute_result"
    }
   ],
   "source": [
    "convert_to_int"
   ]
  },
  {
   "cell_type": "code",
   "execution_count": 18,
   "id": "a1d8f284-69da-4f71-a31a-6ca5662b66c1",
   "metadata": {},
   "outputs": [
    {
     "data": {
      "text/plain": [
       "int"
      ]
     },
     "execution_count": 18,
     "metadata": {},
     "output_type": "execute_result"
    }
   ],
   "source": [
    "type(convert_to_int)"
   ]
  },
  {
   "cell_type": "code",
   "execution_count": 21,
   "id": "669e0083-ffdb-4562-b210-5e1b6018b3ec",
   "metadata": {},
   "outputs": [],
   "source": [
    "converted_string = \"ghgfg\""
   ]
  },
  {
   "cell_type": "code",
   "execution_count": 22,
   "id": "f153d223-2a22-46cb-b007-e4430c6f2ffc",
   "metadata": {},
   "outputs": [
    {
     "data": {
      "text/plain": [
       "str"
      ]
     },
     "execution_count": 22,
     "metadata": {},
     "output_type": "execute_result"
    }
   ],
   "source": [
    "type(converted_string)"
   ]
  },
  {
   "cell_type": "code",
   "execution_count": 23,
   "id": "ad251eb9-fc2d-4275-8f5d-96c26d54c3e9",
   "metadata": {},
   "outputs": [
    {
     "ename": "ValueError",
     "evalue": "invalid literal for int() with base 10: 'ghgfg'",
     "output_type": "error",
     "traceback": [
      "\u001b[0;31m---------------------------------------------------------------------------\u001b[0m",
      "\u001b[0;31mValueError\u001b[0m                                Traceback (most recent call last)",
      "Cell \u001b[0;32mIn[23], line 1\u001b[0m\n\u001b[0;32m----> 1\u001b[0m i \u001b[38;5;241m=\u001b[39m \u001b[38;5;28;43mint\u001b[39;49m\u001b[43m(\u001b[49m\u001b[43mconverted_string\u001b[49m\u001b[43m)\u001b[49m\n",
      "\u001b[0;31mValueError\u001b[0m: invalid literal for int() with base 10: 'ghgfg'"
     ]
    }
   ],
   "source": [
    "i = int(converted_string)"
   ]
  },
  {
   "cell_type": "code",
   "execution_count": 24,
   "id": "d020a530-e864-428e-b5af-e5329c664a93",
   "metadata": {},
   "outputs": [
    {
     "data": {
      "text/plain": [
       "False"
      ]
     },
     "execution_count": 24,
     "metadata": {},
     "output_type": "execute_result"
    }
   ],
   "source": [
    "converted_string.isdigit()"
   ]
  },
  {
   "cell_type": "code",
   "execution_count": 25,
   "id": "e8bc5c0e-b56b-4796-955c-bce899de458d",
   "metadata": {},
   "outputs": [],
   "source": [
    "converted_string_2 = \"99\""
   ]
  },
  {
   "cell_type": "code",
   "execution_count": 26,
   "id": "771f6c3a-df71-4d61-9214-2c85bd984b2e",
   "metadata": {},
   "outputs": [
    {
     "data": {
      "text/plain": [
       "True"
      ]
     },
     "execution_count": 26,
     "metadata": {},
     "output_type": "execute_result"
    }
   ],
   "source": [
    "converted_string_2.isdigit()"
   ]
  },
  {
   "cell_type": "markdown",
   "id": "499a1886-1b5a-4943-a0bf-43b47ea81216",
   "metadata": {},
   "source": [
    "#### Числа с плавающей точкой (float)"
   ]
  },
  {
   "cell_type": "code",
   "execution_count": 29,
   "id": "a1474824-7c26-4a53-b43d-6b705bd81af7",
   "metadata": {},
   "outputs": [],
   "source": [
    "my_float = 0.8777"
   ]
  },
  {
   "cell_type": "code",
   "execution_count": 30,
   "id": "d69be487-d898-4c77-8423-82d256c12bda",
   "metadata": {},
   "outputs": [],
   "source": [
    "a = 0.1"
   ]
  },
  {
   "cell_type": "code",
   "execution_count": 31,
   "id": "b0ac64e1-bd20-4428-a716-67e69414e047",
   "metadata": {},
   "outputs": [],
   "source": [
    "b = 0.2"
   ]
  },
  {
   "cell_type": "code",
   "execution_count": 41,
   "id": "2794ab6d-65ba-41bf-a3d2-8edfd0ac59e0",
   "metadata": {},
   "outputs": [],
   "source": [
    "c = a + b"
   ]
  },
  {
   "cell_type": "code",
   "execution_count": 42,
   "id": "fa309fb8-266b-485c-8bf6-85ef3fe1e5f2",
   "metadata": {},
   "outputs": [
    {
     "data": {
      "text/plain": [
       "0.30000000000000004"
      ]
     },
     "execution_count": 42,
     "metadata": {},
     "output_type": "execute_result"
    }
   ],
   "source": [
    "c"
   ]
  },
  {
   "cell_type": "code",
   "execution_count": 36,
   "id": "2044341b-c8a4-4088-933f-f9d515dcf33d",
   "metadata": {},
   "outputs": [
    {
     "data": {
      "text/plain": [
       "0.3"
      ]
     },
     "execution_count": 36,
     "metadata": {},
     "output_type": "execute_result"
    }
   ],
   "source": [
    "round(c, 2)"
   ]
  },
  {
   "cell_type": "code",
   "execution_count": 37,
   "id": "b6b011c1-c19a-4f18-80c3-97ab4da581d3",
   "metadata": {},
   "outputs": [],
   "source": [
    "import math"
   ]
  },
  {
   "cell_type": "code",
   "execution_count": 50,
   "id": "3d9583fc-4f55-43ae-8fbc-cd85b47d394b",
   "metadata": {},
   "outputs": [],
   "source": [
    "x = 1.4123"
   ]
  },
  {
   "cell_type": "code",
   "execution_count": 51,
   "id": "7173dea5-f189-4a76-a9e6-eb12cde9b050",
   "metadata": {},
   "outputs": [
    {
     "data": {
      "text/plain": [
       "1"
      ]
     },
     "execution_count": 51,
     "metadata": {},
     "output_type": "execute_result"
    }
   ],
   "source": [
    "round(x)"
   ]
  },
  {
   "cell_type": "code",
   "execution_count": 48,
   "id": "e8712212-452c-4e83-b599-b48e7a4ea7a6",
   "metadata": {},
   "outputs": [
    {
     "data": {
      "text/plain": [
       "1"
      ]
     },
     "execution_count": 48,
     "metadata": {},
     "output_type": "execute_result"
    }
   ],
   "source": [
    "math.floor(x)"
   ]
  },
  {
   "cell_type": "code",
   "execution_count": 52,
   "id": "b8e8d624-3805-4b0e-b391-11bf0f4055c2",
   "metadata": {},
   "outputs": [
    {
     "data": {
      "text/plain": [
       "2"
      ]
     },
     "execution_count": 52,
     "metadata": {},
     "output_type": "execute_result"
    }
   ],
   "source": [
    "math.ceil(x)"
   ]
  },
  {
   "cell_type": "code",
   "execution_count": 53,
   "id": "4a2ae5b0-d47b-4f77-9683-e5147f62c7db",
   "metadata": {},
   "outputs": [],
   "source": [
    "convert_to_float = float(\"6\")"
   ]
  },
  {
   "cell_type": "code",
   "execution_count": 54,
   "id": "2658637b-4a42-451e-a3d5-7198658c2609",
   "metadata": {},
   "outputs": [
    {
     "data": {
      "text/plain": [
       "6.0"
      ]
     },
     "execution_count": 54,
     "metadata": {},
     "output_type": "execute_result"
    }
   ],
   "source": [
    "convert_to_float"
   ]
  },
  {
   "cell_type": "code",
   "execution_count": 55,
   "id": "cfabe37f-2fa8-48b9-8e79-a52e9436adac",
   "metadata": {},
   "outputs": [],
   "source": [
    "convert_to_float = float(7)"
   ]
  },
  {
   "cell_type": "code",
   "execution_count": 56,
   "id": "b40d3bee-bdd2-4278-b091-877ee30c3813",
   "metadata": {},
   "outputs": [
    {
     "data": {
      "text/plain": [
       "7.0"
      ]
     },
     "execution_count": 56,
     "metadata": {},
     "output_type": "execute_result"
    }
   ],
   "source": [
    "convert_to_float"
   ]
  },
  {
   "cell_type": "markdown",
   "id": "87128164-9909-4ddb-afc5-71985b196134",
   "metadata": {},
   "source": [
    "#### Список (list)"
   ]
  },
  {
   "cell_type": "code",
   "execution_count": 68,
   "id": "8f7da394-ee35-419b-ba0b-bfb4992fb387",
   "metadata": {},
   "outputs": [],
   "source": [
    "my_list = [\"string\", 7, True, [1, 2, 3]]"
   ]
  },
  {
   "cell_type": "code",
   "execution_count": 70,
   "id": "7ee9f0cc-9c66-474c-b29b-04494955f7e1",
   "metadata": {},
   "outputs": [
    {
     "data": {
      "text/plain": [
       "4424775104"
      ]
     },
     "execution_count": 70,
     "metadata": {},
     "output_type": "execute_result"
    }
   ],
   "source": [
    "my_list\n",
    "id(my_list)"
   ]
  },
  {
   "cell_type": "code",
   "execution_count": 60,
   "id": "6bb87e2f-c171-44c9-8a00-dd44c009c094",
   "metadata": {},
   "outputs": [],
   "source": [
    "my_matrix_list = [[1, 2, 3], [4, 5, 6], [7, 8, 9]]"
   ]
  },
  {
   "cell_type": "code",
   "execution_count": 61,
   "id": "3d03b0ba-a9b4-45db-bfa2-07b3ca238613",
   "metadata": {},
   "outputs": [
    {
     "name": "stdout",
     "output_type": "stream",
     "text": [
      "[[1, 2, 3], [4, 5, 6], [7, 8, 9]]\n"
     ]
    }
   ],
   "source": [
    "print(my_matrix_list)"
   ]
  },
  {
   "cell_type": "code",
   "execution_count": 71,
   "id": "d58840fe-b529-480f-8335-0463f4b43bd3",
   "metadata": {},
   "outputs": [
    {
     "data": {
      "text/plain": [
       "'string'"
      ]
     },
     "execution_count": 71,
     "metadata": {},
     "output_type": "execute_result"
    }
   ],
   "source": [
    "my_list[0]"
   ]
  },
  {
   "cell_type": "code",
   "execution_count": 72,
   "id": "39e57186-7ee3-40f9-8d03-00bbc7fb7e69",
   "metadata": {},
   "outputs": [
    {
     "data": {
      "text/plain": [
       "7"
      ]
     },
     "execution_count": 72,
     "metadata": {},
     "output_type": "execute_result"
    }
   ],
   "source": [
    "my_list[1]"
   ]
  },
  {
   "cell_type": "code",
   "execution_count": 73,
   "id": "86cd1277-67b3-4917-ae2d-9a6c83b4e4da",
   "metadata": {},
   "outputs": [],
   "source": [
    "my_list[1] = \"777\""
   ]
  },
  {
   "cell_type": "code",
   "execution_count": 74,
   "id": "ce89c9a0-e9ed-4550-9edc-409d347da6e3",
   "metadata": {},
   "outputs": [
    {
     "data": {
      "text/plain": [
       "['string', '777', True, [1, 2, 3]]"
      ]
     },
     "execution_count": 74,
     "metadata": {},
     "output_type": "execute_result"
    }
   ],
   "source": [
    "my_list # [[link_0, index_0], [link_1, index_1]]"
   ]
  },
  {
   "cell_type": "code",
   "execution_count": 75,
   "id": "540b141e-239f-4583-9957-0460f558cdb5",
   "metadata": {},
   "outputs": [
    {
     "data": {
      "text/plain": [
       "4424775104"
      ]
     },
     "execution_count": 75,
     "metadata": {},
     "output_type": "execute_result"
    }
   ],
   "source": [
    "id(my_list)"
   ]
  },
  {
   "cell_type": "code",
   "execution_count": 76,
   "id": "b62e8ddf-64c6-454a-9b94-baf04961316c",
   "metadata": {},
   "outputs": [
    {
     "data": {
      "text/plain": [
       "4347982184"
      ]
     },
     "execution_count": 76,
     "metadata": {},
     "output_type": "execute_result"
    }
   ],
   "source": [
    "id(my_list[0])"
   ]
  },
  {
   "cell_type": "code",
   "execution_count": 85,
   "id": "dcd04f2c-9428-4f7a-89fd-178a4108cad7",
   "metadata": {},
   "outputs": [],
   "source": [
    "# from array import array"
   ]
  },
  {
   "cell_type": "code",
   "execution_count": 86,
   "id": "e355920a-5283-48ae-a806-4759a5f6a0aa",
   "metadata": {},
   "outputs": [],
   "source": [
    "new_list = list(\"this\")"
   ]
  },
  {
   "cell_type": "code",
   "execution_count": 87,
   "id": "f7811209-9c5c-4eb6-9002-ab85b92e3357",
   "metadata": {},
   "outputs": [
    {
     "data": {
      "text/plain": [
       "['t', 'h', 'i', 's']"
      ]
     },
     "execution_count": 87,
     "metadata": {},
     "output_type": "execute_result"
    }
   ],
   "source": [
    "new_list"
   ]
  },
  {
   "cell_type": "code",
   "execution_count": 88,
   "id": "ff776636-1b1e-4c7d-bc7e-2255a9fdeb0b",
   "metadata": {},
   "outputs": [],
   "source": [
    "new_list.append(6)"
   ]
  },
  {
   "cell_type": "code",
   "execution_count": 89,
   "id": "6b4f13d8-3966-451e-bfe5-24de5fd28e2f",
   "metadata": {},
   "outputs": [
    {
     "data": {
      "text/plain": [
       "['t', 'h', 'i', 's', 6]"
      ]
     },
     "execution_count": 89,
     "metadata": {},
     "output_type": "execute_result"
    }
   ],
   "source": [
    "new_list"
   ]
  },
  {
   "cell_type": "code",
   "execution_count": 90,
   "id": "e5316673-97d1-4b1b-844e-b60d3745cc5c",
   "metadata": {},
   "outputs": [],
   "source": [
    "new_list.extend([1, 2])"
   ]
  },
  {
   "cell_type": "code",
   "execution_count": 91,
   "id": "2d561a7b-b54a-4cd5-bf93-14c8f05e437b",
   "metadata": {},
   "outputs": [
    {
     "data": {
      "text/plain": [
       "['t', 'h', 'i', 's', 6, 1, 2]"
      ]
     },
     "execution_count": 91,
     "metadata": {},
     "output_type": "execute_result"
    }
   ],
   "source": [
    "new_list"
   ]
  },
  {
   "cell_type": "code",
   "execution_count": 92,
   "id": "e605a719-be0f-412e-85ba-aa3884e400a3",
   "metadata": {},
   "outputs": [
    {
     "data": {
      "text/plain": [
       "2"
      ]
     },
     "execution_count": 92,
     "metadata": {},
     "output_type": "execute_result"
    }
   ],
   "source": [
    "new_list.pop(-1)"
   ]
  },
  {
   "cell_type": "code",
   "execution_count": 93,
   "id": "6a46175f-5ce8-4871-b31b-1a34a9292dbf",
   "metadata": {},
   "outputs": [
    {
     "data": {
      "text/plain": [
       "6"
      ]
     },
     "execution_count": 93,
     "metadata": {},
     "output_type": "execute_result"
    }
   ],
   "source": [
    "len(new_list)"
   ]
  },
  {
   "cell_type": "code",
   "execution_count": 96,
   "id": "6e699d88-430f-4c84-8932-4b5403255c79",
   "metadata": {},
   "outputs": [
    {
     "data": {
      "text/plain": [
       "0"
      ]
     },
     "execution_count": 96,
     "metadata": {},
     "output_type": "execute_result"
    }
   ],
   "source": [
    "new_list.count(\"o\")"
   ]
  },
  {
   "cell_type": "code",
   "execution_count": 97,
   "id": "70352ab6-070f-47e2-aa9e-0a384363b15d",
   "metadata": {},
   "outputs": [],
   "source": [
    "new_list.reverse()"
   ]
  },
  {
   "cell_type": "code",
   "execution_count": 102,
   "id": "0977028a-318c-416c-bd63-b16b50ea58f5",
   "metadata": {},
   "outputs": [],
   "source": [
    "new_list = [1, 2, 8, 6]"
   ]
  },
  {
   "cell_type": "code",
   "execution_count": 103,
   "id": "9e84d180-0b1e-4c0a-aaaf-02e26eea7f0b",
   "metadata": {},
   "outputs": [],
   "source": [
    "new_list.sort()"
   ]
  },
  {
   "cell_type": "code",
   "execution_count": 104,
   "id": "9c26b642-7146-48e7-929d-0cc3edd092c5",
   "metadata": {},
   "outputs": [
    {
     "data": {
      "text/plain": [
       "[1, 2, 6, 8]"
      ]
     },
     "execution_count": 104,
     "metadata": {},
     "output_type": "execute_result"
    }
   ],
   "source": [
    "new_list"
   ]
  },
  {
   "cell_type": "code",
   "execution_count": 105,
   "id": "48ef599e-90ae-4bf9-9dd2-9f2e856212d2",
   "metadata": {},
   "outputs": [],
   "source": [
    "new_list = [1, 2, 8, 6]"
   ]
  },
  {
   "cell_type": "code",
   "execution_count": 107,
   "id": "900203e5-f840-41bb-88ca-773a7e44b0b3",
   "metadata": {},
   "outputs": [],
   "source": [
    "sorted_list = sorted(new_list)"
   ]
  },
  {
   "cell_type": "code",
   "execution_count": 108,
   "id": "a00f7d59-5676-48c6-91ab-3f0b1420946e",
   "metadata": {},
   "outputs": [
    {
     "data": {
      "text/plain": [
       "[1, 2, 8, 6]"
      ]
     },
     "execution_count": 108,
     "metadata": {},
     "output_type": "execute_result"
    }
   ],
   "source": [
    "new_list"
   ]
  },
  {
   "cell_type": "code",
   "execution_count": 109,
   "id": "8340a938-dda2-4104-8e8c-74a80a73d656",
   "metadata": {},
   "outputs": [
    {
     "data": {
      "text/plain": [
       "[1, 2, 6, 8]"
      ]
     },
     "execution_count": 109,
     "metadata": {},
     "output_type": "execute_result"
    }
   ],
   "source": [
    "sorted_list"
   ]
  },
  {
   "cell_type": "code",
   "execution_count": 110,
   "id": "de287427-1267-454e-9168-a4e93155c4f3",
   "metadata": {},
   "outputs": [],
   "source": [
    "#### Кортежи (tuple)"
   ]
  },
  {
   "cell_type": "code",
   "execution_count": 1,
   "id": "06feea51-db36-45a2-a213-30b9f266a141",
   "metadata": {},
   "outputs": [],
   "source": [
    "my_tuple = (1, \"string\", True)"
   ]
  },
  {
   "cell_type": "code",
   "execution_count": 112,
   "id": "a5307f35-7a8c-42b2-a018-aa3d0e0bd147",
   "metadata": {},
   "outputs": [
    {
     "data": {
      "text/plain": [
       "1"
      ]
     },
     "execution_count": 112,
     "metadata": {},
     "output_type": "execute_result"
    }
   ],
   "source": [
    "my_tuple[0]"
   ]
  },
  {
   "cell_type": "code",
   "execution_count": 113,
   "id": "2e7141ce-97f5-4456-83b1-7418ec916327",
   "metadata": {},
   "outputs": [
    {
     "ename": "TypeError",
     "evalue": "'tuple' object does not support item assignment",
     "output_type": "error",
     "traceback": [
      "\u001b[0;31m---------------------------------------------------------------------------\u001b[0m",
      "\u001b[0;31mTypeError\u001b[0m                                 Traceback (most recent call last)",
      "Cell \u001b[0;32mIn[113], line 1\u001b[0m\n\u001b[0;32m----> 1\u001b[0m \u001b[43mmy_tuple\u001b[49m\u001b[43m[\u001b[49m\u001b[38;5;241;43m0\u001b[39;49m\u001b[43m]\u001b[49m \u001b[38;5;241m=\u001b[39m \u001b[38;5;241m99\u001b[39m\n",
      "\u001b[0;31mTypeError\u001b[0m: 'tuple' object does not support item assignment"
     ]
    }
   ],
   "source": [
    "my_tuple[0] = 99"
   ]
  },
  {
   "cell_type": "code",
   "execution_count": 114,
   "id": "8d40c6f1-d3cd-49a4-9352-efa52d35e7e8",
   "metadata": {},
   "outputs": [],
   "source": [
    "empty_tuple = tuple()"
   ]
  },
  {
   "cell_type": "code",
   "execution_count": 118,
   "id": "2f1841f4-370f-4e94-b95c-debc61b18f6a",
   "metadata": {},
   "outputs": [],
   "source": [
    "empty_list = list()  # [] "
   ]
  },
  {
   "cell_type": "code",
   "execution_count": 119,
   "id": "cc3d8a7a-e15e-4df3-bb35-20753f4775a8",
   "metadata": {},
   "outputs": [
    {
     "data": {
      "text/plain": [
       "[]"
      ]
     },
     "execution_count": 119,
     "metadata": {},
     "output_type": "execute_result"
    }
   ],
   "source": [
    "empty_list"
   ]
  },
  {
   "cell_type": "code",
   "execution_count": 120,
   "id": "3f7b057c-43d4-4c51-a486-4618fe365c09",
   "metadata": {},
   "outputs": [
    {
     "data": {
      "text/plain": [
       "()"
      ]
     },
     "execution_count": 120,
     "metadata": {},
     "output_type": "execute_result"
    }
   ],
   "source": [
    "empty_tuple"
   ]
  },
  {
   "cell_type": "markdown",
   "id": "e2118c9a-7055-40be-8c61-7a668a16103e",
   "metadata": {},
   "source": [
    "#### Множество (set)"
   ]
  },
  {
   "cell_type": "code",
   "execution_count": 122,
   "id": "1cf50232-5902-4ab2-a13a-d8e173501e42",
   "metadata": {},
   "outputs": [],
   "source": [
    "my_set = {1, 2, 2, 4, \"s\", True}"
   ]
  },
  {
   "cell_type": "code",
   "execution_count": 123,
   "id": "9c6940f6-f746-4b79-8d3b-1106e74f9850",
   "metadata": {},
   "outputs": [
    {
     "data": {
      "text/plain": [
       "{1, 2, 4, 's'}"
      ]
     },
     "execution_count": 123,
     "metadata": {},
     "output_type": "execute_result"
    }
   ],
   "source": [
    "my_set"
   ]
  },
  {
   "cell_type": "code",
   "execution_count": 124,
   "id": "e7b533e8-a902-45d7-a1d1-e4983ed62e7f",
   "metadata": {},
   "outputs": [],
   "source": [
    "s = set(new_list)"
   ]
  },
  {
   "cell_type": "code",
   "execution_count": 125,
   "id": "f429f671-08d0-4219-be40-0176144facef",
   "metadata": {},
   "outputs": [
    {
     "data": {
      "text/plain": [
       "{1, 2, 6, 8}"
      ]
     },
     "execution_count": 125,
     "metadata": {},
     "output_type": "execute_result"
    }
   ],
   "source": [
    "s"
   ]
  },
  {
   "cell_type": "code",
   "execution_count": 126,
   "id": "673c3d9a-a983-4189-b6cd-203142735564",
   "metadata": {},
   "outputs": [
    {
     "ename": "TypeError",
     "evalue": "'set' object is not subscriptable",
     "output_type": "error",
     "traceback": [
      "\u001b[0;31m---------------------------------------------------------------------------\u001b[0m",
      "\u001b[0;31mTypeError\u001b[0m                                 Traceback (most recent call last)",
      "Cell \u001b[0;32mIn[126], line 1\u001b[0m\n\u001b[0;32m----> 1\u001b[0m \u001b[43ms\u001b[49m\u001b[43m[\u001b[49m\u001b[38;5;241;43m0\u001b[39;49m\u001b[43m]\u001b[49m\n",
      "\u001b[0;31mTypeError\u001b[0m: 'set' object is not subscriptable"
     ]
    }
   ],
   "source": [
    "s[0]"
   ]
  },
  {
   "cell_type": "code",
   "execution_count": 127,
   "id": "dc0da312-9575-4d4e-91af-c84f5044429e",
   "metadata": {},
   "outputs": [
    {
     "data": {
      "text/plain": [
       "True"
      ]
     },
     "execution_count": 127,
     "metadata": {},
     "output_type": "execute_result"
    }
   ],
   "source": [
    "1 in my_set"
   ]
  },
  {
   "cell_type": "code",
   "execution_count": 128,
   "id": "47850e14-af78-4768-9228-ae92c24a2dde",
   "metadata": {},
   "outputs": [],
   "source": [
    "s.add(8)"
   ]
  },
  {
   "cell_type": "code",
   "execution_count": 129,
   "id": "c5782ab4-7f32-4f69-9834-f8c6ee6d66ed",
   "metadata": {},
   "outputs": [
    {
     "data": {
      "text/plain": [
       "{1, 2, 6, 8}"
      ]
     },
     "execution_count": 129,
     "metadata": {},
     "output_type": "execute_result"
    }
   ],
   "source": [
    "s"
   ]
  },
  {
   "cell_type": "code",
   "execution_count": 130,
   "id": "bfd1e962-2c9d-4521-971c-21bb74f4bc28",
   "metadata": {},
   "outputs": [],
   "source": [
    "s.add(8)"
   ]
  },
  {
   "cell_type": "code",
   "execution_count": 131,
   "id": "f2f7d420-830c-47d2-b198-5ed02b216981",
   "metadata": {},
   "outputs": [
    {
     "data": {
      "text/plain": [
       "{1, 2, 6, 8}"
      ]
     },
     "execution_count": 131,
     "metadata": {},
     "output_type": "execute_result"
    }
   ],
   "source": [
    "s"
   ]
  },
  {
   "cell_type": "code",
   "execution_count": 132,
   "id": "fbec2d90-3c2b-464b-a4d6-6b83a1dfa51a",
   "metadata": {},
   "outputs": [
    {
     "data": {
      "text/plain": [
       "8"
      ]
     },
     "execution_count": 132,
     "metadata": {},
     "output_type": "execute_result"
    }
   ],
   "source": [
    "s.pop()"
   ]
  },
  {
   "cell_type": "markdown",
   "id": "97d801f7-4b28-4a05-8336-3620d16f13c0",
   "metadata": {},
   "source": [
    "#### Boolean"
   ]
  },
  {
   "cell_type": "code",
   "execution_count": 134,
   "id": "e940b334-b384-4f09-8c25-a95b49287e3b",
   "metadata": {},
   "outputs": [
    {
     "data": {
      "text/plain": [
       "True"
      ]
     },
     "execution_count": 134,
     "metadata": {},
     "output_type": "execute_result"
    }
   ],
   "source": [
    "True # 1"
   ]
  },
  {
   "cell_type": "code",
   "execution_count": 135,
   "id": "c553f30b-bd7b-49bd-b668-5ec63e1d1a90",
   "metadata": {},
   "outputs": [
    {
     "data": {
      "text/plain": [
       "False"
      ]
     },
     "execution_count": 135,
     "metadata": {},
     "output_type": "execute_result"
    }
   ],
   "source": [
    "False # 0"
   ]
  },
  {
   "cell_type": "code",
   "execution_count": 138,
   "id": "8d100ed1-7b09-4266-a263-e551213c1887",
   "metadata": {},
   "outputs": [
    {
     "data": {
      "text/plain": [
       "True"
      ]
     },
     "execution_count": 138,
     "metadata": {},
     "output_type": "execute_result"
    }
   ],
   "source": [
    "0 == False"
   ]
  },
  {
   "cell_type": "code",
   "execution_count": 139,
   "id": "44c0b2d5-abf0-4750-997c-5dd3c2a7b319",
   "metadata": {},
   "outputs": [
    {
     "data": {
      "text/plain": [
       "False"
      ]
     },
     "execution_count": 139,
     "metadata": {},
     "output_type": "execute_result"
    }
   ],
   "source": [
    "0 == True"
   ]
  },
  {
   "cell_type": "markdown",
   "id": "c10be8f1-e5f8-476f-9f47-81891a55e393",
   "metadata": {},
   "source": [
    "#### NoneType"
   ]
  },
  {
   "cell_type": "code",
   "execution_count": 143,
   "id": "80774bc0-29af-415e-85e4-14cdd149afea",
   "metadata": {},
   "outputs": [],
   "source": [
    "None # Falsy"
   ]
  },
  {
   "cell_type": "code",
   "execution_count": 154,
   "id": "c4416142-6cd7-4dcc-90f5-5bf2d41a1a42",
   "metadata": {},
   "outputs": [],
   "source": [
    "a = [] # 0, False, None, \"\""
   ]
  },
  {
   "cell_type": "code",
   "execution_count": 155,
   "id": "da4d25cb-3e2b-4252-8e20-abfd2b15f535",
   "metadata": {},
   "outputs": [
    {
     "name": "stdout",
     "output_type": "stream",
     "text": [
      "Yes\n"
     ]
    }
   ],
   "source": [
    "if a is not None: # Когда проверяете именно на None пишите is not None или is None\n",
    "    print(\"Yes\")\n",
    "else:\n",
    "    print(\"No\")"
   ]
  },
  {
   "cell_type": "code",
   "execution_count": 156,
   "id": "926a8dc5-e090-48a3-be5a-270f933f65e8",
   "metadata": {},
   "outputs": [
    {
     "data": {
      "text/plain": [
       "False"
      ]
     },
     "execution_count": 156,
     "metadata": {},
     "output_type": "execute_result"
    }
   ],
   "source": [
    "a == b # проверка значений\n",
    "a is b # проверка id, адресов в памяти"
   ]
  },
  {
   "cell_type": "code",
   "execution_count": 157,
   "id": "85973d71-c720-4aa2-bd5a-5943c87a488d",
   "metadata": {},
   "outputs": [],
   "source": [
    "# -5 до 255"
   ]
  },
  {
   "cell_type": "code",
   "execution_count": 169,
   "id": "853a5c31-69ae-47ce-8d63-6385f064e059",
   "metadata": {},
   "outputs": [],
   "source": [
    "a = 60"
   ]
  },
  {
   "cell_type": "code",
   "execution_count": 170,
   "id": "f1d903b8-1618-415c-b79d-82d50e1526f6",
   "metadata": {},
   "outputs": [],
   "source": [
    "b = 60"
   ]
  },
  {
   "cell_type": "code",
   "execution_count": 171,
   "id": "68242e9b-9362-4afa-aab5-aec0b1d4ae1f",
   "metadata": {},
   "outputs": [
    {
     "data": {
      "text/plain": [
       "True"
      ]
     },
     "execution_count": 171,
     "metadata": {},
     "output_type": "execute_result"
    }
   ],
   "source": [
    "a is b"
   ]
  },
  {
   "cell_type": "code",
   "execution_count": 172,
   "id": "3a38a33c-240e-4c49-baab-aa614396b653",
   "metadata": {},
   "outputs": [],
   "source": [
    "a = 600"
   ]
  },
  {
   "cell_type": "code",
   "execution_count": 173,
   "id": "c87e0513-c03e-4f08-943a-d008f1ec55a7",
   "metadata": {},
   "outputs": [],
   "source": [
    "b = 600"
   ]
  },
  {
   "cell_type": "code",
   "execution_count": 174,
   "id": "91d43c78-39ad-40f9-8778-d6331feca0c2",
   "metadata": {},
   "outputs": [
    {
     "data": {
      "text/plain": [
       "False"
      ]
     },
     "execution_count": 174,
     "metadata": {},
     "output_type": "execute_result"
    }
   ],
   "source": [
    "a is b"
   ]
  },
  {
   "cell_type": "code",
   "execution_count": 175,
   "id": "7c6bed9d-c57d-41bd-8109-fe1b8a60702e",
   "metadata": {},
   "outputs": [
    {
     "data": {
      "text/plain": [
       "True"
      ]
     },
     "execution_count": 175,
     "metadata": {},
     "output_type": "execute_result"
    }
   ],
   "source": [
    "a == b"
   ]
  },
  {
   "cell_type": "code",
   "execution_count": 166,
   "id": "885a1642-a3b6-4ec0-95f6-966884788c3f",
   "metadata": {},
   "outputs": [
    {
     "data": {
      "text/plain": [
       "4568541008"
      ]
     },
     "execution_count": 166,
     "metadata": {},
     "output_type": "execute_result"
    }
   ],
   "source": [
    "id(a)"
   ]
  },
  {
   "cell_type": "code",
   "execution_count": 167,
   "id": "d807cf11-af3e-490f-bb20-63982bf02cc8",
   "metadata": {},
   "outputs": [
    {
     "data": {
      "text/plain": [
       "4568539120"
      ]
     },
     "execution_count": 167,
     "metadata": {},
     "output_type": "execute_result"
    }
   ],
   "source": [
    "id(b)"
   ]
  },
  {
   "cell_type": "code",
   "execution_count": 176,
   "id": "1d579b5d-042d-44cc-bb04-1ad4495a4725",
   "metadata": {},
   "outputs": [],
   "source": [
    "x = \"Maxim\""
   ]
  },
  {
   "cell_type": "code",
   "execution_count": 177,
   "id": "7c968390-6c04-46ab-bec6-b11526431e01",
   "metadata": {},
   "outputs": [],
   "source": [
    "y = \"Maxim\""
   ]
  },
  {
   "cell_type": "code",
   "execution_count": 178,
   "id": "2b6d711d-7b7f-49bc-9f9a-60523b89b91c",
   "metadata": {},
   "outputs": [
    {
     "data": {
      "text/plain": [
       "True"
      ]
     },
     "execution_count": 178,
     "metadata": {},
     "output_type": "execute_result"
    }
   ],
   "source": [
    "x == y"
   ]
  },
  {
   "cell_type": "code",
   "execution_count": 179,
   "id": "bbbe16a1-0c4b-41cc-99ec-fa8c10e5e7f7",
   "metadata": {},
   "outputs": [
    {
     "data": {
      "text/plain": [
       "True"
      ]
     },
     "execution_count": 179,
     "metadata": {},
     "output_type": "execute_result"
    }
   ],
   "source": [
    "x is y"
   ]
  },
  {
   "cell_type": "code",
   "execution_count": 180,
   "id": "7e968892-41e9-4265-afc4-2c7400ae765c",
   "metadata": {},
   "outputs": [],
   "source": [
    "x = \"Maxim Bekaryukov\""
   ]
  },
  {
   "cell_type": "code",
   "execution_count": 181,
   "id": "03a8e7af-c3b9-4800-8c4c-8a356f6a9cf8",
   "metadata": {},
   "outputs": [],
   "source": [
    "y = \"Maxim Bekaryukov\""
   ]
  },
  {
   "cell_type": "code",
   "execution_count": 182,
   "id": "20ed49ec-a069-4a66-83b0-a71641f69c37",
   "metadata": {},
   "outputs": [
    {
     "data": {
      "text/plain": [
       "True"
      ]
     },
     "execution_count": 182,
     "metadata": {},
     "output_type": "execute_result"
    }
   ],
   "source": [
    "x == y"
   ]
  },
  {
   "cell_type": "code",
   "execution_count": 183,
   "id": "4cf6f4e2-88b6-438f-8a4b-e251d1a13e8c",
   "metadata": {},
   "outputs": [
    {
     "data": {
      "text/plain": [
       "False"
      ]
     },
     "execution_count": 183,
     "metadata": {},
     "output_type": "execute_result"
    }
   ],
   "source": [
    "x is y"
   ]
  },
  {
   "cell_type": "code",
   "execution_count": 184,
   "id": "c672581c-5ed6-4404-8228-08ae2c40ae84",
   "metadata": {},
   "outputs": [],
   "source": [
    "x = \"Maxim_Bekaryukov\""
   ]
  },
  {
   "cell_type": "code",
   "execution_count": 185,
   "id": "514f1d76-4247-49e5-8a84-e09ecb6ebf6d",
   "metadata": {},
   "outputs": [],
   "source": [
    "y = \"Maxim_Bekaryukov\""
   ]
  },
  {
   "cell_type": "code",
   "execution_count": 187,
   "id": "07dc274a-d88c-43ac-995c-b65de06e249d",
   "metadata": {},
   "outputs": [
    {
     "data": {
      "text/plain": [
       "True"
      ]
     },
     "execution_count": 187,
     "metadata": {},
     "output_type": "execute_result"
    }
   ],
   "source": [
    "x is y"
   ]
  },
  {
   "cell_type": "markdown",
   "id": "2fa6b471-d9e9-415a-9dcd-1f08e705ca62",
   "metadata": {},
   "source": [
    "#### Словари"
   ]
  },
  {
   "cell_type": "code",
   "execution_count": 188,
   "id": "e2ff4002-032f-445e-b548-967c3cf85c3e",
   "metadata": {},
   "outputs": [],
   "source": [
    "my_dict = {\"a\": 1, \"b\": 2}"
   ]
  },
  {
   "cell_type": "code",
   "execution_count": 189,
   "id": "332f3c3b-5023-4099-9d2c-1b3a366b64ed",
   "metadata": {},
   "outputs": [
    {
     "data": {
      "text/plain": [
       "{'a': 1, 'b': 2}"
      ]
     },
     "execution_count": 189,
     "metadata": {},
     "output_type": "execute_result"
    }
   ],
   "source": [
    "my_dict"
   ]
  },
  {
   "cell_type": "code",
   "execution_count": 190,
   "id": "be2b48d0-7aa8-4345-b6a0-be0f5303c5c3",
   "metadata": {},
   "outputs": [
    {
     "ename": "KeyError",
     "evalue": "0",
     "output_type": "error",
     "traceback": [
      "\u001b[0;31m---------------------------------------------------------------------------\u001b[0m",
      "\u001b[0;31mKeyError\u001b[0m                                  Traceback (most recent call last)",
      "Cell \u001b[0;32mIn[190], line 1\u001b[0m\n\u001b[0;32m----> 1\u001b[0m \u001b[43mmy_dict\u001b[49m\u001b[43m[\u001b[49m\u001b[38;5;241;43m0\u001b[39;49m\u001b[43m]\u001b[49m\n",
      "\u001b[0;31mKeyError\u001b[0m: 0"
     ]
    }
   ],
   "source": [
    "my_dict[0]"
   ]
  },
  {
   "cell_type": "code",
   "execution_count": 191,
   "id": "fdfd3ae9-d045-49b6-877a-888a0606b443",
   "metadata": {},
   "outputs": [
    {
     "data": {
      "text/plain": [
       "1"
      ]
     },
     "execution_count": 191,
     "metadata": {},
     "output_type": "execute_result"
    }
   ],
   "source": [
    "my_dict[\"a\"]"
   ]
  },
  {
   "cell_type": "code",
   "execution_count": 192,
   "id": "4391b8d5-c6b3-43ad-b778-d8f9fc1c92d5",
   "metadata": {},
   "outputs": [],
   "source": [
    "my_dict[\"a\"] += 1 # my_dict[\"a\"] = my_dict[\"a\"] + 1"
   ]
  },
  {
   "cell_type": "code",
   "execution_count": 193,
   "id": "5bd0d240-bedb-4f89-ae1b-d3890f50bda2",
   "metadata": {},
   "outputs": [
    {
     "data": {
      "text/plain": [
       "2"
      ]
     },
     "execution_count": 193,
     "metadata": {},
     "output_type": "execute_result"
    }
   ],
   "source": [
    "my_dict[\"a\"]"
   ]
  },
  {
   "cell_type": "code",
   "execution_count": 194,
   "id": "0a90d64b-9583-4654-901e-447764d88bba",
   "metadata": {},
   "outputs": [],
   "source": [
    "my_dict[\"a\"] = 8"
   ]
  },
  {
   "cell_type": "code",
   "execution_count": 195,
   "id": "939c4849-1964-4938-b04c-7d4deeaa0085",
   "metadata": {},
   "outputs": [
    {
     "data": {
      "text/plain": [
       "8"
      ]
     },
     "execution_count": 195,
     "metadata": {},
     "output_type": "execute_result"
    }
   ],
   "source": [
    "my_dict[\"a\"]"
   ]
  },
  {
   "cell_type": "code",
   "execution_count": 196,
   "id": "af80aebf-d378-4bae-893b-fe19c9b17d37",
   "metadata": {},
   "outputs": [
    {
     "data": {
      "text/plain": [
       "{'a': 8, 'b': 2}"
      ]
     },
     "execution_count": 196,
     "metadata": {},
     "output_type": "execute_result"
    }
   ],
   "source": [
    "my_dict"
   ]
  },
  {
   "cell_type": "code",
   "execution_count": 197,
   "id": "89746882-40f1-480a-9082-69d8650c94b2",
   "metadata": {},
   "outputs": [
    {
     "data": {
      "text/plain": [
       "8"
      ]
     },
     "execution_count": 197,
     "metadata": {},
     "output_type": "execute_result"
    }
   ],
   "source": [
    "my_dict.get(\"a\")"
   ]
  },
  {
   "cell_type": "code",
   "execution_count": 198,
   "id": "2b501aa0-9f7b-4f91-a900-4e918aa6c177",
   "metadata": {},
   "outputs": [],
   "source": [
    "my_dict.get(\"c\") # None"
   ]
  },
  {
   "cell_type": "code",
   "execution_count": 199,
   "id": "472539ec-d745-4dfb-ab6f-96bead81ca5c",
   "metadata": {},
   "outputs": [
    {
     "ename": "KeyError",
     "evalue": "'c'",
     "output_type": "error",
     "traceback": [
      "\u001b[0;31m---------------------------------------------------------------------------\u001b[0m",
      "\u001b[0;31mKeyError\u001b[0m                                  Traceback (most recent call last)",
      "Cell \u001b[0;32mIn[199], line 1\u001b[0m\n\u001b[0;32m----> 1\u001b[0m \u001b[43mmy_dict\u001b[49m\u001b[43m[\u001b[49m\u001b[38;5;124;43m\"\u001b[39;49m\u001b[38;5;124;43mc\u001b[39;49m\u001b[38;5;124;43m\"\u001b[39;49m\u001b[43m]\u001b[49m\n",
      "\u001b[0;31mKeyError\u001b[0m: 'c'"
     ]
    }
   ],
   "source": [
    "my_dict[\"c\"]"
   ]
  },
  {
   "cell_type": "code",
   "execution_count": 201,
   "id": "2df4f5e2-9283-4228-a4a4-2ff270927409",
   "metadata": {},
   "outputs": [
    {
     "data": {
      "text/plain": [
       "''"
      ]
     },
     "execution_count": 201,
     "metadata": {},
     "output_type": "execute_result"
    }
   ],
   "source": [
    "my_dict.get(\"c\", \"\")"
   ]
  },
  {
   "cell_type": "code",
   "execution_count": 202,
   "id": "b7142bf6-ca30-45d2-9cdd-3d39fe8a4600",
   "metadata": {},
   "outputs": [
    {
     "data": {
      "text/plain": [
       "dict_keys(['a', 'b'])"
      ]
     },
     "execution_count": 202,
     "metadata": {},
     "output_type": "execute_result"
    }
   ],
   "source": [
    "my_dict.keys()"
   ]
  },
  {
   "cell_type": "code",
   "execution_count": 204,
   "id": "d0914e1d-b36c-4750-92cf-1bf0922d2e96",
   "metadata": {},
   "outputs": [
    {
     "data": {
      "text/plain": [
       "dict_values"
      ]
     },
     "execution_count": 204,
     "metadata": {},
     "output_type": "execute_result"
    }
   ],
   "source": [
    "type(my_dict.values())"
   ]
  },
  {
   "cell_type": "code",
   "execution_count": 205,
   "id": "3e41aec0-58b6-404a-882c-f1fa22eab4e9",
   "metadata": {},
   "outputs": [
    {
     "data": {
      "text/plain": [
       "dict_values([8, 2])"
      ]
     },
     "execution_count": 205,
     "metadata": {},
     "output_type": "execute_result"
    }
   ],
   "source": [
    "my_dict.values()"
   ]
  },
  {
   "cell_type": "code",
   "execution_count": 206,
   "id": "9fc190af-d963-4e38-a75d-aac43697fd89",
   "metadata": {},
   "outputs": [
    {
     "data": {
      "text/plain": [
       "dict_items([('a', 8), ('b', 2)])"
      ]
     },
     "execution_count": 206,
     "metadata": {},
     "output_type": "execute_result"
    }
   ],
   "source": [
    "my_dict.items()"
   ]
  },
  {
   "cell_type": "code",
   "execution_count": 207,
   "id": "8fe70071-8aa9-4a17-a554-44c80d434c94",
   "metadata": {},
   "outputs": [],
   "source": [
    "#### For, While"
   ]
  },
  {
   "cell_type": "code",
   "execution_count": 208,
   "id": "d0d3aa2b-69c0-4de4-8195-95e7a72ebcb4",
   "metadata": {},
   "outputs": [],
   "source": [
    "x = 5    "
   ]
  },
  {
   "cell_type": "code",
   "execution_count": 209,
   "id": "830c89d6-daaf-4186-a1a2-54b19723433f",
   "metadata": {},
   "outputs": [
    {
     "name": "stdout",
     "output_type": "stream",
     "text": [
      "5\n",
      "4\n",
      "3\n",
      "2\n",
      "1\n"
     ]
    }
   ],
   "source": [
    "while x > 0:  # while True: - бесконечный цикл\n",
    "    print(x)  # действие\n",
    "    x -= 1"
   ]
  },
  {
   "cell_type": "code",
   "execution_count": 210,
   "id": "41b18633-80f6-497d-9146-77592f4d91cb",
   "metadata": {},
   "outputs": [
    {
     "name": "stdout",
     "output_type": "stream",
     "text": [
      "5\n",
      "3\n",
      "2\n",
      "1\n"
     ]
    }
   ],
   "source": [
    "x = 5\n",
    "while x > 0:\n",
    "    if x == 4:\n",
    "        x -= 1\n",
    "        continue\n",
    "    print(x)  # действие\n",
    "    x -= 1"
   ]
  },
  {
   "cell_type": "code",
   "execution_count": 211,
   "id": "c389cc85-02b1-4fec-88fa-3efd309e3fa8",
   "metadata": {},
   "outputs": [
    {
     "name": "stdout",
     "output_type": "stream",
     "text": [
      "5\n"
     ]
    }
   ],
   "source": [
    "x = 5\n",
    "while x > 0:\n",
    "    if x == 4:\n",
    "        break\n",
    "    print(x)  # действие\n",
    "    x -= 1"
   ]
  },
  {
   "cell_type": "code",
   "execution_count": 215,
   "id": "0648598c-34ea-4449-bff1-e5e0be218b8d",
   "metadata": {},
   "outputs": [
    {
     "name": "stdout",
     "output_type": "stream",
     "text": [
      "5\n",
      "4\n",
      "3\n",
      "2\n",
      "1\n"
     ]
    }
   ],
   "source": [
    "for i in range(5, 0, -1):\n",
    "    print(i)"
   ]
  },
  {
   "cell_type": "code",
   "execution_count": 217,
   "id": "c1697bef-1876-4dd6-b541-64522f65568e",
   "metadata": {},
   "outputs": [
    {
     "name": "stdout",
     "output_type": "stream",
     "text": [
      "m\n",
      "y\n",
      " \n",
      "s\n",
      "t\n",
      "r\n",
      "i\n",
      "n\n",
      "g\n"
     ]
    }
   ],
   "source": [
    "for el in \"my string\":\n",
    "    print(el)"
   ]
  },
  {
   "cell_type": "code",
   "execution_count": 218,
   "id": "ed035199-dc1c-43c7-9ade-4f3517112083",
   "metadata": {},
   "outputs": [],
   "source": [
    "s = \"my string\""
   ]
  },
  {
   "cell_type": "code",
   "execution_count": 219,
   "id": "befd7a73-a774-4fbe-80a8-3f705384d3d4",
   "metadata": {},
   "outputs": [],
   "source": [
    "stop = len(s)"
   ]
  },
  {
   "cell_type": "code",
   "execution_count": 220,
   "id": "92c337f2-10e8-4bd9-b0a2-3d8edc80b81c",
   "metadata": {},
   "outputs": [],
   "source": [
    "x = 0"
   ]
  },
  {
   "cell_type": "code",
   "execution_count": 222,
   "id": "2687b7c7-d9cf-4bd8-94c3-ac32f1945944",
   "metadata": {},
   "outputs": [
    {
     "name": "stdout",
     "output_type": "stream",
     "text": [
      "m\n",
      "y\n",
      " \n",
      "s\n",
      "t\n",
      "r\n",
      "i\n",
      "n\n",
      "g\n"
     ]
    }
   ],
   "source": [
    "while x < stop:\n",
    "    print(s[x])\n",
    "    x += 1"
   ]
  },
  {
   "cell_type": "code",
   "execution_count": 228,
   "id": "2720bbc7-feb5-40b3-b753-cae173b25325",
   "metadata": {},
   "outputs": [
    {
     "name": "stdout",
     "output_type": "stream",
     "text": [
      "in first if\n"
     ]
    }
   ],
   "source": [
    "x = 2\n",
    "if x == 2:\n",
    "    print(\"in first if\")\n",
    "elif x == 2:\n",
    "    print(\"in second if\")\n",
    "else:\n",
    "    print(x)"
   ]
  },
  {
   "cell_type": "code",
   "execution_count": 230,
   "id": "b4aac0bd-195a-4a19-841d-23433d44b54f",
   "metadata": {},
   "outputs": [
    {
     "name": "stdout",
     "output_type": "stream",
     "text": [
      "in first if\n",
      "in second if\n"
     ]
    }
   ],
   "source": [
    "x = 2\n",
    "if x == 2:\n",
    "    print(\"in first if\")\n",
    "if x == 2:\n",
    "    print(\"in second if\")\n",
    "else:\n",
    "    print(x)"
   ]
  },
  {
   "cell_type": "code",
   "execution_count": 231,
   "id": "146dfa69-dd0d-4736-9fd2-1f87af21d2fc",
   "metadata": {},
   "outputs": [
    {
     "name": "stdout",
     "output_type": "stream",
     "text": [
      "in first if\n",
      "in second if\n"
     ]
    }
   ],
   "source": [
    "x = 2\n",
    "if x:\n",
    "    print(\"in first if\")\n",
    "    if x == 2:\n",
    "        print(\"in second if\")\n",
    "    else:\n",
    "        print(x)\n",
    "else:\n",
    "    print(\"Exit\")"
   ]
  },
  {
   "cell_type": "code",
   "execution_count": 232,
   "id": "749fc573-3525-475e-87ec-8776094c00e2",
   "metadata": {},
   "outputs": [
    {
     "name": "stdout",
     "output_type": "stream",
     "text": [
      "Exit\n"
     ]
    }
   ],
   "source": [
    "x = 0\n",
    "if x:\n",
    "    print(\"in first if\")\n",
    "    if x == 2:\n",
    "        print(\"in second if\")\n",
    "    else:\n",
    "        print(x)\n",
    "else:\n",
    "    print(\"Exit\")"
   ]
  },
  {
   "cell_type": "code",
   "execution_count": null,
   "id": "78c5e985-47e8-4e9b-8d97-4a007c233ead",
   "metadata": {},
   "outputs": [],
   "source": []
  }
 ],
 "metadata": {
  "kernelspec": {
   "display_name": ".venv",
   "language": "python",
   "name": "python3"
  },
  "language_info": {
   "codemirror_mode": {
    "name": "ipython",
    "version": 3
   },
   "file_extension": ".py",
   "mimetype": "text/x-python",
   "name": "python",
   "nbconvert_exporter": "python",
   "pygments_lexer": "ipython3",
   "version": "3.11.5"
  }
 },
 "nbformat": 4,
 "nbformat_minor": 5
}
